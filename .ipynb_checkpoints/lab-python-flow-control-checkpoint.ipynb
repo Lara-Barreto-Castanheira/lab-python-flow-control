{
 "cells": [
  {
   "cell_type": "markdown",
   "id": "d3bfc191-8885-42ee-b0a0-bbab867c6f9f",
   "metadata": {
    "tags": []
   },
   "source": [
    "# Lab | Flow Control"
   ]
  },
  {
   "cell_type": "markdown",
   "id": "3851fcd1-cf98-4653-9c89-e003b7ec9400",
   "metadata": {},
   "source": [
    "## Exercise: Managing Customer Orders Optimized\n",
    "\n",
    "In the last lab, you were starting an online store that sells various products. To ensure smooth operations, you developed a program that manages customer orders and inventory.\n",
    "\n",
    "You did so without using flow control. Let's go a step further and improve this code.\n",
    "\n",
    "Follow the steps below to complete the exercise:\n",
    "\n",
    "1. Look at your code from the lab data structures, and improve repeated code with loops.\n",
    "\n",
    "2. Instead of asking the user to input the name of three products that a customer wants to order, do the following:\n",
    "    \n",
    "    a. Prompt the user to enter the name of a product that a customer wants to order.\n",
    "    \n",
    "    b. Add the product name to the \"customer_orders\" set.\n",
    "    \n",
    "    c. Ask the user if they want to add another product (yes/no).\n",
    "    \n",
    "    d. Continue the loop until the user does not want to add another product.\n",
    "\n",
    "3. Instead of updating the inventory by subtracting 1 from the quantity of each product, only do it for  the products that were ordered (those in \"customer_orders\")."
   ]
  },
  {
   "cell_type": "code",
   "execution_count": 14,
   "id": "0c9f5f34",
   "metadata": {},
   "outputs": [],
   "source": [
    "products = [\"t-shirt\", \"mug\", \"hat\", \"book\", \"keychain\"]"
   ]
  },
  {
   "cell_type": "code",
   "execution_count": 15,
   "id": "0f4b25aa",
   "metadata": {},
   "outputs": [],
   "source": [
    "inventory = {}"
   ]
  },
  {
   "cell_type": "code",
   "execution_count": 16,
   "id": "bbce0922",
   "metadata": {
    "scrolled": true
   },
   "outputs": [
    {
     "name": "stdout",
     "output_type": "stream",
     "text": [
      "Quantity of t-shirt: 4\n",
      "Quantity of mug: 4\n",
      "Quantity of hat: 4\n",
      "Quantity of book: 4\n",
      "Quantity of keychain: 4\n"
     ]
    }
   ],
   "source": [
    "for product in products:\n",
    "    inventory[product] = int(input(f'Quantity of {product}: '))"
   ]
  },
  {
   "cell_type": "code",
   "execution_count": 17,
   "id": "7002a7c9",
   "metadata": {},
   "outputs": [
    {
     "name": "stdout",
     "output_type": "stream",
     "text": [
      "{'t-shirt': 4, 'mug': 4, 'hat': 4, 'book': 4, 'keychain': 4}\n"
     ]
    }
   ],
   "source": [
    "print(inventory)"
   ]
  },
  {
   "cell_type": "code",
   "execution_count": 18,
   "id": "65171710",
   "metadata": {},
   "outputs": [
    {
     "name": "stdout",
     "output_type": "stream",
     "text": [
      "Enter the name of the product:book\n",
      "{'book'}\n"
     ]
    }
   ],
   "source": [
    "# Add the product name to the \"customer_orders\" set.\n",
    "customer_orders = set()\n",
    "\n",
    "name_of_product = input(\"Enter the name of the product:\")\n",
    "\n",
    "for product in products:\n",
    "    customer_orders.add(name_of_product)\n",
    "        \n",
    "print(customer_orders)\n"
   ]
  },
  {
   "cell_type": "code",
   "execution_count": 19,
   "id": "71b5a1e0",
   "metadata": {},
   "outputs": [
    {
     "name": "stdout",
     "output_type": "stream",
     "text": [
      "(1, 20.0)\n",
      "Total Products Ordered: 1\n",
      "Percentage of Products: 20.0%\n"
     ]
    }
   ],
   "source": [
    "total_of_products = sum(inventory.values())\n",
    "\n",
    "for product in products:\n",
    "    total_products_ordered = len(customer_orders)\n",
    "    percentage_ordered = (total_products_ordered / len(products)) * 100\n",
    "\n",
    "order_status = (total_products_ordered,percentage_ordered)\n",
    "print(order_status)    \n",
    "print(f\"Total Products Ordered: {total_products_ordered}\"),\n",
    "print(f\"Percentage of Products: {percentage_ordered}%\")\n"
   ]
  },
  {
   "cell_type": "code",
   "execution_count": 20,
   "id": "802d6f8c",
   "metadata": {},
   "outputs": [
    {
     "name": "stdout",
     "output_type": "stream",
     "text": [
      "Do you wanto to add another prodcut: Yes or No? Yes\n",
      "name of product:book\n",
      "Do you wanto to add another prodcut: Yes or No? Yes\n",
      "name of product:hat\n",
      "Do you wanto to add another prodcut: Yes or No? Yes\n",
      "name of product:keychain\n",
      "Do you wanto to add another prodcut: Yes or No? No\n",
      "No\n",
      "{'hat', 'keychain', 'book'}\n"
     ]
    }
   ],
   "source": [
    "while True:\n",
    "    user_answer = input(\"Do you wanto to add another prodcut: Yes or No? \")\n",
    "    if user_answer == \"Yes\":\n",
    "        name_of_product = input(\"name of product:\")\n",
    "        customer_orders.add(name_of_product)\n",
    "    else:\n",
    "        print(\"No\")\n",
    "        break\n",
    "print(customer_orders)"
   ]
  },
  {
   "cell_type": "code",
   "execution_count": 21,
   "id": "de852b19",
   "metadata": {},
   "outputs": [
    {
     "name": "stdout",
     "output_type": "stream",
     "text": [
      "{'t-shirt': 4, 'mug': 4, 'hat': 3, 'book': 3, 'keychain': 3}\n"
     ]
    }
   ],
   "source": [
    "for j in customer_orders:\n",
    "    if j in inventory.keys():\n",
    "        inventory[j] -= 1\n",
    "print(inventory)"
   ]
  },
  {
   "cell_type": "code",
   "execution_count": null,
   "id": "cda8a53c",
   "metadata": {},
   "outputs": [],
   "source": []
  }
 ],
 "metadata": {
  "kernelspec": {
   "display_name": "Python 3 (ipykernel)",
   "language": "python",
   "name": "python3"
  },
  "language_info": {
   "codemirror_mode": {
    "name": "ipython",
    "version": 3
   },
   "file_extension": ".py",
   "mimetype": "text/x-python",
   "name": "python",
   "nbconvert_exporter": "python",
   "pygments_lexer": "ipython3",
   "version": "3.11.5"
  }
 },
 "nbformat": 4,
 "nbformat_minor": 5
}
